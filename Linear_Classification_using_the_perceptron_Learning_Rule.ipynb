{
  "nbformat": 4,
  "nbformat_minor": 0,
  "metadata": {
    "colab": {
      "name": "Linear Classification using the perceptron Learning Rule",
      "provenance": [],
      "collapsed_sections": [],
      "toc_visible": true,
      "mount_file_id": "1JXTRJZXKHP-RbyXbEbx10aBSbCHQBJPE",
      "authorship_tag": "ABX9TyOL52RGTyNZmYXIBbwDlnr5",
      "include_colab_link": true
    },
    "kernelspec": {
      "name": "python3",
      "display_name": "Python 3"
    },
    "language_info": {
      "name": "python"
    }
  },
  "cells": [
    {
      "cell_type": "markdown",
      "metadata": {
        "id": "view-in-github",
        "colab_type": "text"
      },
      "source": [
        "<a href=\"https://colab.research.google.com/github/carlos-navarro-naranjo/Linear-Classification-using-the-perceptron-Learning-Rule/blob/main/Linear_Classification_using_the_perceptron_Learning_Rule.ipynb\" target=\"_parent\"><img src=\"https://colab.research.google.com/assets/colab-badge.svg\" alt=\"Open In Colab\"/></a>"
      ]
    },
    {
      "cell_type": "code",
      "execution_count": null,
      "metadata": {
        "id": "Hcm0uK7REQLX"
      },
      "outputs": [],
      "source": [
        "###Linear Classification using the Perceptron Learning Rule- SEPARABLE DATA"
      ]
    },
    {
      "cell_type": "markdown",
      "source": [
        "My model employs the perceptron learning rule to train a linear classifier on a two feature engine condition binary classification. I use simulated engine condition data for use in triggering time-to-failure \n",
        "calculations\n",
        "\n",
        "My model's Learning goal: create the “trigger” by \n",
        "finding a good classifier and using it as \n",
        "a boundary to sound the alarm problem. \n",
        "\n",
        "Our model deals with 2 features, engine variable 1 and engine variable 2.\n",
        " \n",
        "\n",
        "In terms of built-in python libraries, I used pandas to load our .csv files, numpy to handle arrays and matrix mathematics, matplotlib.pyplot for plotting, and sklearn for a variety of machine learning tasks and confusion matrix visualization."
      ],
      "metadata": {
        "id": "T7x39czzEfdU"
      }
    },
    {
      "cell_type": "markdown",
      "source": [
        "I begin by reading in our small engine condition dataset with pandas. \n",
        "\n",
        "I then plot the data in a scatterplot using matplotlib.pyplot and numpy. The scatterplot is of engine condition plotted as a function of two engine variables, referred to here as engine variable 1 and engine variables 2.\n",
        "\n",
        "Here I rely on knowledge that the first 16 data points are from the \"Good\" class and the remaining points are from the \"Diminished\" class. This makes it easier to plot."
      ],
      "metadata": {
        "id": "ESlZEAlpj2_Z"
      }
    },
    {
      "cell_type": "code",
      "source": [
        "##LINEARLY SEPARABLE DATA\n",
        "import numpy as np\n",
        "import pandas as pd\n",
        "import matplotlib.pyplot as plt\n",
        "df = pd.read_csv(\"/content/drive/MyDrive/Machine Learning/Engine_Condition (1).csv\")\n",
        "#df\n",
        "print(df)\n",
        "feature_names = ['EV1', 'EV2']\n",
        "X = df[feature_names]\n",
        "y = df['Status']\n",
        "df_arr = np.array(df)\n",
        "print(df_arr)\n",
        "df_arr = df_arr[0:34, :]\n",
        "D1 = df_arr[0:15, :]\n",
        "D0 = df_arr[15:34,:]\n"
      ],
      "metadata": {
        "id": "rT_W_jDFEz83"
      },
      "execution_count": null,
      "outputs": []
    },
    {
      "cell_type": "code",
      "source": [
        "plt.scatter(D1[:, 0], D1[:, 1], marker='o', s=50, edgecolor='k', label='Good')\n",
        "plt.scatter(D0[:, 0], D0[:, 1], marker='s', s=50, edgecolor='k', label='Diminished')\n",
        "print(D1[:, 0], D1[:, 1])\n",
        "plt.xlabel(\"Engine Variable 1\")\n",
        "plt.ylabel(\"Engine Variable 2\")\n",
        "plt.legend()"
      ],
      "metadata": {
        "colab": {
          "base_uri": "https://localhost:8080/",
          "height": 349
        },
        "id": "oMBeVw8IG8j6",
        "outputId": "0a66177f-a8e1-4b04-b5b3-96732eb3c87a"
      },
      "execution_count": 7,
      "outputs": [
        {
          "output_type": "stream",
          "name": "stdout",
          "text": [
            "[5.2  5.6  5.77 5.85 5.61 5.63 5.84 5.85 5.86 5.86 5.92 5.93 5.91 6.15\n",
            " 6.21] [3.4  3.55 3.43 3.61 4.2  4.52 3.57 4.23 4.25 4.4  3.73 4.32 4.51 4.55\n",
            " 4.49]\n"
          ]
        },
        {
          "output_type": "execute_result",
          "data": {
            "text/plain": [
              "<matplotlib.legend.Legend at 0x7f60ffcc8ad0>"
            ]
          },
          "metadata": {},
          "execution_count": 7
        },
        {
          "output_type": "display_data",
          "data": {
            "image/png": "[encoded data removed]",
            "text/plain": [
              "<Figure size 432x288 with 1 Axes>"
            ]
          },
          "metadata": {
            "needs_background": "light"
          }
        }
      ]
    },
    {
      "cell_type": "markdown",
      "source": [
        "Now that I have set up a linear classifier with the perceptron learning rule, we will use it on the engine data again but with the standard training/testing split for holdout validation. There is not much data in the set, so k-fold cross validation arguably would be the better choice in practice. But I decided to keep it simple for this miniproject.\n",
        "\n",
        "Below, I use sklearn.model_selection for train_test_split. I set a random state just to make sure the results can be repeated.\n",
        "\n",
        "After I train the classifier, I plot the decision boundary and the complete data set."
      ],
      "metadata": {
        "id": "SwDqP4HumRB9"
      }
    },
    {
      "cell_type": "code",
      "source": [
        "from sklearn.model_selection import train_test_split\n",
        "\n",
        "X_train, X_test, y_train, y_test = train_test_split(df_arr[:, 0:2], df_arr[:, 2], random_state=42)\n",
        "\n",
        "l_rate = 0.1\n",
        "n_epoch = 12\n",
        "weights, accuracy = train_weights(np.hstack((X_train, y_train.reshape(-1, 1))), l_rate, n_epoch)\n",
        "print(weights)\n",
        "\n",
        "# plot the actual boundary\n",
        "x1 = np.linspace(4.4, 6.3, num=2)\n",
        "x2 = - weights[0]/weights[2] - weights[1]/weights[2]*x1\n",
        "\n",
        "plt.figure()\n",
        "plt.scatter(D1[:, 0], D1[:, 1], marker='o', s=50, edgecolor='k', label='Good')\n",
        "plt.scatter(D0[:, 0], D0[:, 1], marker='s', s=50, edgecolor='k', label='Diminished')\n",
        "plt.plot(x1, x2, label='Decision Boundary')\n",
        "plt.xlabel(\"Engine Variable 1\")\n",
        "plt.ylabel(\"Engine Variable 2\")\n",
        "plt.legend()"
      ],
      "metadata": {
        "colab": {
          "base_uri": "https://localhost:8080/",
          "height": 314
        },
        "id": "Rw7uwH_wddxQ",
        "outputId": "cab13c90-4d7d-4adf-a1ba-966dfb7f864f"
      },
      "execution_count": 8,
      "outputs": [
        {
          "output_type": "stream",
          "name": "stdout",
          "text": [
            "[0.1, 1.4929999999999986, -1.8540000000000003]\n"
          ]
        },
        {
          "output_type": "execute_result",
          "data": {
            "text/plain": [
              "<matplotlib.legend.Legend at 0x7f60ff70dbd0>"
            ]
          },
          "metadata": {},
          "execution_count": 8
        },
        {
          "output_type": "display_data",
          "data": {
            "image/png": "[encoded data removed]",
            "text/plain": [
              "<Figure size 432x288 with 1 Axes>"
            ]
          },
          "metadata": {
            "needs_background": "light"
          }
        }
      ]
    },
    {
      "cell_type": "markdown",
      "source": [
        "I now seek to plot the confusion matrix.\n",
        "\n",
        "Scikit-learn provides a class called ConfusionMatrixDisplay that makes it easy to visualize a confusion matrix. \n",
        "\n",
        "ConfusionMatrixDisplay is a class that has what are called class methods (python keyword classmethod). These are methods that can be used without constructing an object of that class.\n",
        "They can be referenced using the classname. I will use the method from_predictions, which we call as ConfusionMatrixDisplay.from_predictions(y_true, y_pred)."
      ],
      "metadata": {
        "id": "plHIgfLFmLqP"
      }
    },
    {
      "cell_type": "code",
      "source": [
        "from sklearn.metrics import ConfusionMatrixDisplay\n",
        "from sklearn.metrics import classification_report\n",
        "\n",
        "train = np.hstack((X_test, y_test.reshape(-1, 1)))\n",
        "\n",
        "y_pred = []\n",
        "y_true = []\n",
        "for row in train:\n",
        "    y_pred.append(predict(row, weights))\n",
        "    y_true.append(row[-1])\n",
        "\n",
        "    \n",
        "ConfusionMatrixDisplay.from_predictions(y_true, y_pred)\n",
        "\n",
        "target_names = ['Good', 'Diminished']\n",
        "print(classification_report(y_true, y_pred, target_names=target_names))"
      ],
      "metadata": {
        "colab": {
          "base_uri": "https://localhost:8080/",
          "height": 439
        },
        "id": "M2XGbj0Qfebb",
        "outputId": "e19e44d4-133c-4097-a5de-91d1dec3d4c4"
      },
      "execution_count": 9,
      "outputs": [
        {
          "output_type": "stream",
          "name": "stdout",
          "text": [
            "              precision    recall  f1-score   support\n",
            "\n",
            "        Good       1.00      1.00      1.00         7\n",
            "  Diminished       1.00      1.00      1.00         2\n",
            "\n",
            "    accuracy                           1.00         9\n",
            "   macro avg       1.00      1.00      1.00         9\n",
            "weighted avg       1.00      1.00      1.00         9\n",
            "\n"
          ]
        },
        {
          "output_type": "display_data",
          "data": {
            "image/png": "[encoded data removed]",
            "text/plain": [
              "<Figure size 432x288 with 2 Axes>"
            ]
          },
          "metadata": {
            "needs_background": "light"
          }
        }
      ]
    }
  ]
}